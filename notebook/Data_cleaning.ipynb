{
 "metadata": {
  "language_info": {
   "codemirror_mode": {
    "name": "ipython",
    "version": 3
   },
   "file_extension": ".py",
   "mimetype": "text/x-python",
   "name": "python",
   "nbconvert_exporter": "python",
   "pygments_lexer": "ipython3",
   "version": "3.8.5-final"
  },
  "orig_nbformat": 2,
  "kernelspec": {
   "name": "python38864bit88bfb78cf0954052a32597ba41785a7a",
   "display_name": "Python 3.8.8 64-bit",
   "language": "python"
  }
 },
 "nbformat": 4,
 "nbformat_minor": 2,
 "cells": [
  {
   "source": [
    "* Selectionner parmi les tables les colonnes qui de près ou de loin pourraient être intéressantes pour l'étude (d02_intermediate)\n",
    "\n",
    "* Rechercher s'il existe des valeurs manquantes, les traiter (d02_intermediate)\n",
    "\n",
    "* Rechercher s'il y a des colonnes qu'il faudrait transformer en datetime (d02_intermediate)\n",
    "\n",
    "* Vérifier la consistence des données (d02_intermediate)\n",
    "\n",
    "* Rechercher les valeurs abbérantes et les traiter (d02_intermediate)\n"
   ],
   "cell_type": "markdown",
   "metadata": {}
  },
  {
   "source": [
    "# Nettoyage des données"
   ],
   "cell_type": "markdown",
   "metadata": {}
  },
  {
   "source": [
    "## 0. Set up"
   ],
   "cell_type": "markdown",
   "metadata": {}
  },
  {
   "source": [
    "### Mise en place de l'environnement"
   ],
   "cell_type": "markdown",
   "metadata": {}
  },
  {
   "cell_type": "code",
   "execution_count": 1,
   "metadata": {},
   "outputs": [],
   "source": [
    "#Importation des Modules nécessaires\n",
    "import pandas as pd\n",
    "import sqlalchemy\n",
    "import mysql.connector\n",
    "\n",
    "\n",
    "#Pour que python reconnaisse un dossier comme un module il faut ajouter en son sein un fichier __init__.py \n",
    "#et également l'ajouter au PATH\n",
    "\n",
    "import sys\n",
    "sys.path.insert(0, \"/home/apprenant/simplon_projects/american_dream/\")\n",
    "\n",
    "\n",
    "#On peut ensuite importer le dossier comme un module\n",
    "\n",
    "from src.d00_utils.mysql_utils import mysql_connect, save_to_mysql\n",
    "connect = mysql_connect()"
   ]
  },
  {
   "source": [
    "### Importation des données depuis MySQL"
   ],
   "cell_type": "markdown",
   "metadata": {}
  },
  {
   "cell_type": "code",
   "execution_count": 2,
   "metadata": {},
   "outputs": [],
   "source": [
    "\n",
    "df1 = pd.read_sql(\"excel_table\",con=connect)\n",
    "dfk = pd.read_sql(\"csv_table\",con=connect)\n",
    "\n"
   ]
  },
  {
   "cell_type": "code",
   "execution_count": 3,
   "metadata": {},
   "outputs": [
    {
     "output_type": "stream",
     "name": "stdout",
     "text": [
      "False    8627\ndtype: int64\n"
     ]
    }
   ],
   "source": [
    "print(df1.duplicated().value_counts())"
   ]
  },
  {
   "source": [
    "## 1. Sélection des colonnes\n",
    "\n",
    "\n",
    "\n",
    "J'affiche un échantillon de mes données pour analyser la pertinence des différentes colonnes\n"
   ],
   "cell_type": "markdown",
   "metadata": {}
  },
  {
   "cell_type": "code",
   "execution_count": 4,
   "metadata": {},
   "outputs": [
    {
     "output_type": "stream",
     "name": "stdout",
     "text": [
      "   index  Survey Year           Timestamp  SalaryUSD        Country  \\\n0      0         2020 2020-01-04 18:50:34   115000.0  United States   \n1      1         2020 2020-01-04 10:43:02   100000.0  United States   \n2      2         2020 2020-01-04 09:51:46   100000.0          Spain   \n3      3         2020 2020-01-04 01:08:54    70000.0  United States   \n4      4         2020 2020-01-03 15:28:54   110000.0  United States   \n\n  PostalCode       PrimaryDatabase  YearsWithThisDatabase  \\\n0         03  Microsoft SQL Server                     15   \n1       None                 Other                      6   \n2      28046  Microsoft SQL Server                      2   \n3      94133  Microsoft SQL Server                      3   \n4      95354                Oracle                     30   \n\n                                      OtherDatabases    EmploymentStatus  ...  \\\n0  Microsoft SQL Server, MongoDB, Azure SQL DB (a...  Full time employee  ...   \n1                                      MySQL/MariaDB  Full time employee  ...   \n2                                      MySQL/MariaDB  Full time employee  ...   \n3                                   Microsoft Access  Full time employee  ...   \n4  Microsoft SQL Server, Oracle, MySQL/MariaDB, P...  Full time employee  ...   \n\n  NewestVersionInProduction OldestVersionInProduction  \\\n0           SQL Server 2019           SQL Server 2016   \n1                  informix                  informix   \n2           SQL Server 2017           SQL Server 2017   \n3           SQL Server 2016           SQL Server 2012   \n4           SQL Server 2016         SQL Server 2008R2   \n\n   PopulationOfLargestCityWithin20Miles  EmploymentSector  \\\n0                  20K-99K (large town)  Private business   \n1                      1M+ (metropolis)  Private business   \n2                      1M+ (metropolis)  Private business   \n3                      1M+ (metropolis)  Private business   \n4                      100K-299K (city)        Non-profit   \n\n  LookingForAnotherJob                     CareerPlansThisYear  Gender  \\\n0            Not Asked  Stay with the same employer, same role    Male   \n1            Not Asked                       Prefer not to say    Male   \n2            Not Asked  Stay with the same employer, same role    Male   \n3            Not Asked         Change both employers and roles    Male   \n4            Not Asked  Stay with the same employer, same role    Male   \n\n  OtherJobDuties KindsOfTasksPerformed Counter  \n0      Not Asked             Not Asked       1  \n1      Not Asked             Not Asked       1  \n2      Not Asked             Not Asked       1  \n3      Not Asked             Not Asked       1  \n4      Not Asked             Not Asked       1  \n\n[5 rows x 32 columns]\nIndex(['index', 'Survey Year', 'Timestamp', 'SalaryUSD', 'Country',\n       'PostalCode', 'PrimaryDatabase', 'YearsWithThisDatabase',\n       'OtherDatabases', 'EmploymentStatus', 'JobTitle', 'ManageStaff',\n       'YearsWithThisTypeOfJob', 'HowManyCompanies', 'OtherPeopleOnYourTeam',\n       'CompanyEmployeesOverall', 'DatabaseServers', 'Education',\n       'EducationIsComputerRelated', 'Certifications', 'HoursWorkedPerWeek',\n       'TelecommuteDaysPerWeek', 'NewestVersionInProduction',\n       'OldestVersionInProduction', 'PopulationOfLargestCityWithin20Miles',\n       'EmploymentSector', 'LookingForAnotherJob', 'CareerPlansThisYear',\n       'Gender', 'OtherJobDuties', 'KindsOfTasksPerformed', 'Counter'],\n      dtype='object')\n"
     ]
    }
   ],
   "source": [
    "\n",
    "\n",
    "print(df1.head())\n",
    "print(df1.columns)\n",
    "\n"
   ]
  },
  {
   "source": [
    "\n",
    "Je choisis uniquement les colonnes qui pourraient m'être utiles pour mon étude\n"
   ],
   "cell_type": "markdown",
   "metadata": {}
  },
  {
   "cell_type": "code",
   "execution_count": 5,
   "metadata": {},
   "outputs": [],
   "source": [
    "df1 = df1[['SalaryUSD','Country','PostalCode','EmploymentStatus','JobTitle','ManageStaff','YearsWithThisTypeOfJob',\n",
    "          'HowManyCompanies','OtherPeopleOnYourTeam', 'CompanyEmployeesOverall',\n",
    "          'PopulationOfLargestCityWithin20Miles','EmploymentSector', 'LookingForAnotherJob', 'CareerPlansThisYear',\n",
    "          'Gender', 'OtherJobDuties']]"
   ]
  },
  {
   "source": [
    "Je récupère la liste des pays, pour vérifier qu'il n'y a pas de doublons."
   ],
   "cell_type": "markdown",
   "metadata": {}
  },
  {
   "cell_type": "code",
   "execution_count": 6,
   "metadata": {},
   "outputs": [
    {
     "output_type": "execute_result",
     "data": {
      "text/plain": [
       "array(['Albania', 'Anguilla', 'Argentina', 'Armenia', 'Australia',\n",
       "       'Austria', 'Bahrain', 'Belarus', 'Belgium', 'Bermuda', 'Bolivia',\n",
       "       'Brazil', 'Bulgaria', 'Canada', 'Cayman Islands', 'China',\n",
       "       'Colombia', 'Costa Rica', 'Croatia', 'Czech Republic', 'Denmark',\n",
       "       'Dominican Republic', 'Ecuador', 'El Salvador', 'Estonia',\n",
       "       'Finland', 'France', 'Georgia', 'Germany', 'Ghana', 'Greece',\n",
       "       'Guatemala', 'Guernsey', 'Hong Kong', 'Hungary', 'Iceland',\n",
       "       'India', 'Indonesia', 'Iran', 'Ireland', 'Israel', 'Italy',\n",
       "       'Jamaica', 'Jersey', 'Jordan', 'Kenya', 'Latvia', 'Lithuania',\n",
       "       'Luxembourg', 'Macedonia', 'Malaysia', 'Maldives', 'Malta',\n",
       "       'Mexico', 'Moldova', 'Nepal', 'Netherlands', 'New Zealand',\n",
       "       'Nicaragua', 'Norway', 'Pakistan', 'Paraguay', 'Peru',\n",
       "       'Philippines', 'Poland', 'Portugal', 'Puerto Rico', 'Qatar',\n",
       "       'Romania', 'Russia', 'Saudi Arabia', 'Serbia and Montenegro',\n",
       "       'Singapore', 'Slovakia', 'Slovenia', 'South Africa', 'Spain',\n",
       "       'Swaziland', 'Sweden', 'Switzerland', 'Syria', 'Taiwan',\n",
       "       'Thailand', 'Turkey', 'Uganda', 'Ukraine', 'United Arab Emirates',\n",
       "       'United Kingdom', 'United States', 'Uruguay', 'Vanuatu',\n",
       "       'Venezuela', 'Vietnam'], dtype=object)"
      ]
     },
     "metadata": {},
     "execution_count": 6
    }
   ],
   "source": [
    "countries = df1['Country'].unique()\n",
    "countries.sort()\n",
    "countries\n"
   ]
  },
  {
   "source": [
    "Il n'y a pas de doublons dans la liste des pays, je peux donc récupérer uniquement les lignes où la colonne Country est égale à 'United States' puisque c'est ce qui m'intéresse."
   ],
   "cell_type": "markdown",
   "metadata": {}
  },
  {
   "cell_type": "code",
   "execution_count": 7,
   "metadata": {},
   "outputs": [
    {
     "output_type": "execute_result",
     "data": {
      "text/plain": [
       "   SalaryUSD        Country PostalCode    EmploymentStatus  \\\n",
       "0   115000.0  United States         03  Full time employee   \n",
       "1   100000.0  United States       None  Full time employee   \n",
       "3    70000.0  United States      94133  Full time employee   \n",
       "4   110000.0  United States      95354  Full time employee   \n",
       "5    79500.0  United States      78727  Full time employee   \n",
       "\n",
       "                                            JobTitle ManageStaff  \\\n",
       "0  DBA (Production Focus - build & troubleshoot s...          No   \n",
       "1                  Developer: App code (C#, JS, etc)          No   \n",
       "3                                            Analyst          No   \n",
       "4  DBA (General - splits time evenly between writ...          No   \n",
       "5                                            Analyst          No   \n",
       "\n",
       "   YearsWithThisTypeOfJob                                   HowManyCompanies  \\\n",
       "0                       5  1 (this is the only company where I've had thi...   \n",
       "1                       6  1 (this is the only company where I've had thi...   \n",
       "3                       3  1 (this is the only company where I've had thi...   \n",
       "4                      25                                                  3   \n",
       "5                       2  1 (this is the only company where I've had thi...   \n",
       "\n",
       "  OtherPeopleOnYourTeam CompanyEmployeesOverall  \\\n",
       "0                     2               Not Asked   \n",
       "1           More than 5               Not Asked   \n",
       "3                     2               Not Asked   \n",
       "4                  None               Not Asked   \n",
       "5                  None               Not Asked   \n",
       "\n",
       "  PopulationOfLargestCityWithin20Miles  EmploymentSector LookingForAnotherJob  \\\n",
       "0                 20K-99K (large town)  Private business            Not Asked   \n",
       "1                     1M+ (metropolis)  Private business            Not Asked   \n",
       "3                     1M+ (metropolis)  Private business            Not Asked   \n",
       "4                     100K-299K (city)        Non-profit            Not Asked   \n",
       "5                     1M+ (metropolis)  Private business            Not Asked   \n",
       "\n",
       "                      CareerPlansThisYear Gender OtherJobDuties  \n",
       "0  Stay with the same employer, same role   Male      Not Asked  \n",
       "1                       Prefer not to say   Male      Not Asked  \n",
       "3         Change both employers and roles   Male      Not Asked  \n",
       "4  Stay with the same employer, same role   Male      Not Asked  \n",
       "5  Stay with the same employer, same role   Male      Not Asked  "
      ],
      "text/html": "<div>\n<style scoped>\n    .dataframe tbody tr th:only-of-type {\n        vertical-align: middle;\n    }\n\n    .dataframe tbody tr th {\n        vertical-align: top;\n    }\n\n    .dataframe thead th {\n        text-align: right;\n    }\n</style>\n<table border=\"1\" class=\"dataframe\">\n  <thead>\n    <tr style=\"text-align: right;\">\n      <th></th>\n      <th>SalaryUSD</th>\n      <th>Country</th>\n      <th>PostalCode</th>\n      <th>EmploymentStatus</th>\n      <th>JobTitle</th>\n      <th>ManageStaff</th>\n      <th>YearsWithThisTypeOfJob</th>\n      <th>HowManyCompanies</th>\n      <th>OtherPeopleOnYourTeam</th>\n      <th>CompanyEmployeesOverall</th>\n      <th>PopulationOfLargestCityWithin20Miles</th>\n      <th>EmploymentSector</th>\n      <th>LookingForAnotherJob</th>\n      <th>CareerPlansThisYear</th>\n      <th>Gender</th>\n      <th>OtherJobDuties</th>\n    </tr>\n  </thead>\n  <tbody>\n    <tr>\n      <th>0</th>\n      <td>115000.0</td>\n      <td>United States</td>\n      <td>03</td>\n      <td>Full time employee</td>\n      <td>DBA (Production Focus - build &amp; troubleshoot s...</td>\n      <td>No</td>\n      <td>5</td>\n      <td>1 (this is the only company where I've had thi...</td>\n      <td>2</td>\n      <td>Not Asked</td>\n      <td>20K-99K (large town)</td>\n      <td>Private business</td>\n      <td>Not Asked</td>\n      <td>Stay with the same employer, same role</td>\n      <td>Male</td>\n      <td>Not Asked</td>\n    </tr>\n    <tr>\n      <th>1</th>\n      <td>100000.0</td>\n      <td>United States</td>\n      <td>None</td>\n      <td>Full time employee</td>\n      <td>Developer: App code (C#, JS, etc)</td>\n      <td>No</td>\n      <td>6</td>\n      <td>1 (this is the only company where I've had thi...</td>\n      <td>More than 5</td>\n      <td>Not Asked</td>\n      <td>1M+ (metropolis)</td>\n      <td>Private business</td>\n      <td>Not Asked</td>\n      <td>Prefer not to say</td>\n      <td>Male</td>\n      <td>Not Asked</td>\n    </tr>\n    <tr>\n      <th>3</th>\n      <td>70000.0</td>\n      <td>United States</td>\n      <td>94133</td>\n      <td>Full time employee</td>\n      <td>Analyst</td>\n      <td>No</td>\n      <td>3</td>\n      <td>1 (this is the only company where I've had thi...</td>\n      <td>2</td>\n      <td>Not Asked</td>\n      <td>1M+ (metropolis)</td>\n      <td>Private business</td>\n      <td>Not Asked</td>\n      <td>Change both employers and roles</td>\n      <td>Male</td>\n      <td>Not Asked</td>\n    </tr>\n    <tr>\n      <th>4</th>\n      <td>110000.0</td>\n      <td>United States</td>\n      <td>95354</td>\n      <td>Full time employee</td>\n      <td>DBA (General - splits time evenly between writ...</td>\n      <td>No</td>\n      <td>25</td>\n      <td>3</td>\n      <td>None</td>\n      <td>Not Asked</td>\n      <td>100K-299K (city)</td>\n      <td>Non-profit</td>\n      <td>Not Asked</td>\n      <td>Stay with the same employer, same role</td>\n      <td>Male</td>\n      <td>Not Asked</td>\n    </tr>\n    <tr>\n      <th>5</th>\n      <td>79500.0</td>\n      <td>United States</td>\n      <td>78727</td>\n      <td>Full time employee</td>\n      <td>Analyst</td>\n      <td>No</td>\n      <td>2</td>\n      <td>1 (this is the only company where I've had thi...</td>\n      <td>None</td>\n      <td>Not Asked</td>\n      <td>1M+ (metropolis)</td>\n      <td>Private business</td>\n      <td>Not Asked</td>\n      <td>Stay with the same employer, same role</td>\n      <td>Male</td>\n      <td>Not Asked</td>\n    </tr>\n  </tbody>\n</table>\n</div>"
     },
     "metadata": {},
     "execution_count": 7
    }
   ],
   "source": [
    "df1 = df1.loc[df1['Country'] == \"United States\"]\n",
    "df1.head()"
   ]
  },
  {
   "source": [
    "\n",
    "\n",
    "Je fais la même chose pour la seconde table\n"
   ],
   "cell_type": "markdown",
   "metadata": {}
  },
  {
   "cell_type": "code",
   "execution_count": 8,
   "metadata": {},
   "outputs": [
    {
     "output_type": "stream",
     "name": "stdout",
     "text": [
      "   index  Unnamed: 0                                          Job Title  \\\n0      0           0  Data Analyst, Center on Immigration and Justic...   \n1      1           1                               Quality Data Analyst   \n2      2           2  Senior Data Analyst, Insights & Analytics Team...   \n3      3           3                                       Data Analyst   \n4      4           4                             Reporting Data Analyst   \n\n              Salary Estimate  \\\n0  $37K-$66K (Glassdoor est.)   \n1  $37K-$66K (Glassdoor est.)   \n2  $37K-$66K (Glassdoor est.)   \n3  $37K-$66K (Glassdoor est.)   \n4  $37K-$66K (Glassdoor est.)   \n\n                                     Job Description  Rating  \\\n0  Are you eager to roll up your sleeves and harn...     3.2   \n1  Overview\\n\\nProvides analytical and technical ...     3.8   \n2  We’re looking for a Senior Data Analyst who ha...     3.4   \n3  Requisition NumberRR-0001939\\nRemote:Yes\\nWe c...     4.1   \n4  ABOUT FANDUEL GROUP\\n\\nFanDuel Group is a worl...     3.9   \n\n                              Company Name      Location  Headquarters  \\\n0           Vera Institute of Justice\\n3.2  New York, NY  New York, NY   \n1  Visiting Nurse Service of New York\\n3.8  New York, NY  New York, NY   \n2                         Squarespace\\n3.4  New York, NY  New York, NY   \n3                            Celerity\\n4.1  New York, NY    McLean, VA   \n4                             FanDuel\\n3.9  New York, NY  New York, NY   \n\n                     Size  Founded               Type of ownership  \\\n0    201 to 500 employees     1961          Nonprofit Organization   \n1        10000+ employees     1893          Nonprofit Organization   \n2  1001 to 5000 employees     2003               Company - Private   \n3    201 to 500 employees     2002  Subsidiary or Business Segment   \n4   501 to 1000 employees     2009               Company - Private   \n\n                           Industry                            Sector  \\\n0                 Social Assistance                        Non-Profit   \n1  Health Care Services & Hospitals                       Health Care   \n2                          Internet            Information Technology   \n3                       IT Services            Information Technology   \n4               Sports & Recreation  Arts, Entertainment & Recreation   \n\n                      Revenue Competitors Easy Apply  \n0  $100 to $500 million (USD)          -1       True  \n1      $2 to $5 billion (USD)          -1         -1  \n2    Unknown / Non-Applicable     GoDaddy         -1  \n3   $50 to $100 million (USD)          -1         -1  \n4  $100 to $500 million (USD)  DraftKings       True  \nIndex(['index', 'Unnamed: 0', 'Job Title', 'Salary Estimate',\n       'Job Description', 'Rating', 'Company Name', 'Location', 'Headquarters',\n       'Size', 'Founded', 'Type of ownership', 'Industry', 'Sector', 'Revenue',\n       'Competitors', 'Easy Apply'],\n      dtype='object')\n"
     ]
    }
   ],
   "source": [
    "print(dfk.head())\n",
    "print(dfk.columns)"
   ]
  },
  {
   "cell_type": "code",
   "execution_count": 9,
   "metadata": {},
   "outputs": [],
   "source": [
    "dfk = dfk[['Job Title', 'Salary Estimate',\n",
    "       'Job Description', 'Company Name', 'Location', 'Headquarters',\n",
    "       'Size', 'Founded', 'Type of ownership', 'Industry', 'Sector', 'Revenue'\n",
    "]]"
   ]
  },
  {
   "source": [
    "\n",
    "## 2. Valeurs manquantes\n",
    "# \n",
    "Recherche des valeurs manquantes\n"
   ],
   "cell_type": "markdown",
   "metadata": {}
  },
  {
   "cell_type": "code",
   "execution_count": 10,
   "metadata": {},
   "outputs": [
    {
     "output_type": "stream",
     "name": "stdout",
     "text": [
      "SalaryUSD                                 0\nCountry                                   0\nPostalCode                              466\nEmploymentStatus                          0\nJobTitle                                  0\nManageStaff                               0\nYearsWithThisTypeOfJob                    0\nHowManyCompanies                          0\nOtherPeopleOnYourTeam                     0\nCompanyEmployeesOverall                   0\nPopulationOfLargestCityWithin20Miles      0\nEmploymentSector                          0\nLookingForAnotherJob                      0\nCareerPlansThisYear                       0\nGender                                    0\nOtherJobDuties                          385\ndtype: int64\n(5680, 16)\n"
     ]
    }
   ],
   "source": [
    "\n",
    "print(df1.isnull().sum()) \n",
    "print(df1.shape)"
   ]
  },
  {
   "source": [
    "\n",
    "\n",
    "Il me manque 1390 veleurs pour PostalCode et 620 pour OtherJobDUties sur un total de 8627 lignes. Ces deux colonnes ne sont pas au centre de mon études donc ça se vaut pas le cout de supprimer toute la ligne pour elles\n",
    "\n",
    "(Après sélection des valeurs pour USA uniquement: il manque 466 valeurs dans PostalCode (environ 8%) et 385 dans OtherJobDUties (moins de 7%))\n"
   ],
   "cell_type": "markdown",
   "metadata": {}
  },
  {
   "source": [
    "### traitement de Postal code\n",
    "\n",
    "\n",
    "Cela ne ferait pas de sens de remplacer le code postal par un code postal arbitraire\n"
   ],
   "cell_type": "markdown",
   "metadata": {}
  },
  {
   "source": [
    "### Traitement de OtherJobDuties"
   ],
   "cell_type": "markdown",
   "metadata": {}
  },
  {
   "cell_type": "code",
   "execution_count": 11,
   "metadata": {
    "tags": [
     "outputPrepend"
    ]
   },
   "outputs": [
    {
     "output_type": "stream",
     "name": "stdout",
     "text": [
      "), Developer: T-SQL'\n 'Data Scientist, Developer: App code (C#, JS, etc), Developer: T-SQL, Engineer'\n 'Architect, DBA (Development Focus - tunes queries, indexes, does deployments), Developer: App code (C#, JS, etc), Developer: T-SQL'\n 'Analyst, Architect, DBA (Development Focus - tunes queries, indexes, does deployments), DBA (Production Focus - build & troubleshoot servers, HA/DR), Developer: Business Intelligence (SSRS, PowerBI, etc), Engineer'\n 'Analyst, Architect, Data Scientist, Manager'\n 'Analyst, Architect, DBA (General - splits time evenly between writing & tuning queries AND building & troubleshooting servers), Developer: Business Intelligence (SSRS, PowerBI, etc), Developer: T-SQL, Manager'\n 'Architect, DBA (Production Focus - build & troubleshoot servers, HA/DR), Developer: Business Intelligence (SSRS, PowerBI, etc), Developer: T-SQL'\n 'Analyst, DBA (General - splits time evenly between writing & tuning queries AND building & troubleshooting servers), Developer: App code (C#, JS, etc), Developer: T-SQL'\n 'Analyst, DBA (Development Focus - tunes queries, indexes, does deployments), DBA (General - splits time evenly between writing & tuning queries AND building & troubleshooting servers), Developer: Business Intelligence (SSRS, PowerBI, etc), Developer: T-SQL'\n 'Architect, DBA (Development Focus - tunes queries, indexes, does deployments), DBA (General - splits time evenly between writing & tuning queries AND building & troubleshooting servers), Developer: App code (C#, JS, etc)'\n 'Architect, Data Scientist, Developer: App code (C#, JS, etc), Engineer, Manager'\n 'DBA (Development Focus - tunes queries, indexes, does deployments), DBA (Production Focus - build & troubleshoot servers, HA/DR), DBA (General - splits time evenly between writing & tuning queries AND building & troubleshooting servers), Developer: Business Intelligence (SSRS, PowerBI, etc)'\n 'Analyst, Architect, DBA (Development Focus - tunes queries, indexes, does deployments), DBA (Production Focus - build & troubleshoot servers, HA/DR), Developer: App code (C#, JS, etc), Developer: Business Intelligence (SSRS, PowerBI, etc), Manager'\n 'Developer: App code (C#, JS, etc), Developer: T-SQL, Engineer, Manager'\n 'Analyst, Architect, DBA (General - splits time evenly between writing & tuning queries AND building & troubleshooting servers), Engineer'\n 'Architect, DBA (Development Focus - tunes queries, indexes, does deployments), DBA (General - splits time evenly between writing & tuning queries AND building & troubleshooting servers), Developer: App code (C#, JS, etc), Developer: Business Intelligence (SSRS, PowerBI, etc), Developer: T-SQL'\n 'Architect, Data Scientist, DBA (Development Focus - tunes queries, indexes, does deployments), Engineer, Manager'\n 'DBA (Production Focus - build & troubleshoot servers, HA/DR), DBA (General - splits time evenly between writing & tuning queries AND building & troubleshooting servers), Engineer, Manager'\n 'Developer: App code (C#, JS, etc), Developer: Business Intelligence (SSRS, PowerBI, etc), Developer: T-SQL, Engineer, Manager'\n 'Data Scientist, Manager'\n 'Analyst, Architect, DBA (Development Focus - tunes queries, indexes, does deployments), DBA (Production Focus - build & troubleshoot servers, HA/DR), Developer: App code (C#, JS, etc), Developer: T-SQL, Manager'\n 'Architect, Data Scientist, Developer: Business Intelligence (SSRS, PowerBI, etc), Developer: T-SQL, Engineer'\n 'Analyst, Architect, DBA (Development Focus - tunes queries, indexes, does deployments), Developer: Business Intelligence (SSRS, PowerBI, etc), Developer: T-SQL, Engineer, Manager'\n 'Analyst, DBA (Development Focus - tunes queries, indexes, does deployments), Developer: App code (C#, JS, etc), Developer: T-SQL, Manager'\n 'Data Scientist, DBA (General - splits time evenly between writing & tuning queries AND building & troubleshooting servers), Developer: Business Intelligence (SSRS, PowerBI, etc)'\n 'Architect, Data Scientist, DBA (Development Focus - tunes queries, indexes, does deployments), Developer: App code (C#, JS, etc), Developer: T-SQL, Engineer, Manager'\n 'DBA (Development Focus - tunes queries, indexes, does deployments), DBA (General - splits time evenly between writing & tuning queries AND building & troubleshooting servers), Developer: Business Intelligence (SSRS, PowerBI, etc)'\n 'Architect, DBA (Development Focus - tunes queries, indexes, does deployments), DBA (General - splits time evenly between writing & tuning queries AND building & troubleshooting servers), Developer: Business Intelligence (SSRS, PowerBI, etc), Developer: T-SQL, Engineer'\n 'DBA (Production Focus - build & troubleshoot servers, HA/DR), Developer: App code (C#, JS, etc), Developer: Business Intelligence (SSRS, PowerBI, etc), Developer: T-SQL'\n 'Architect, Data Scientist, Developer: App code (C#, JS, etc), Developer: Business Intelligence (SSRS, PowerBI, etc), Developer: T-SQL'\n 'DBA (Production Focus - build & troubleshoot servers, HA/DR), DBA (General - splits time evenly between writing & tuning queries AND building & troubleshooting servers), Developer: App code (C#, JS, etc), Developer: T-SQL'\n 'Analyst, Architect, DBA (Development Focus - tunes queries, indexes, does deployments), Developer: Business Intelligence (SSRS, PowerBI, etc)'\n 'Analyst, Data Scientist, DBA (Development Focus - tunes queries, indexes, does deployments), Developer: App code (C#, JS, etc), Developer: T-SQL'\n 'DBA (Development Focus - tunes queries, indexes, does deployments), DBA (Production Focus - build & troubleshoot servers, HA/DR), Developer: App code (C#, JS, etc), Developer: Business Intelligence (SSRS, PowerBI, etc)'\n 'Analyst, Architect, Data Scientist, Developer: App code (C#, JS, etc), Developer: Business Intelligence (SSRS, PowerBI, etc), Developer: T-SQL'\n 'Analyst, Architect, Data Scientist, DBA (Development Focus - tunes queries, indexes, does deployments), DBA (Production Focus - build & troubleshoot servers, HA/DR), DBA (General - splits time evenly between writing & tuning queries AND building & troubleshooting servers), Developer: App code (C#, JS, etc), Developer: Business Intelligence (SSRS, PowerBI, etc), Engineer, Manager'\n 'Analyst, Engineer'\n 'Analyst, Data Scientist, Developer: Business Intelligence (SSRS, PowerBI, etc), Engineer'\n 'Analyst, Architect, DBA (Development Focus - tunes queries, indexes, does deployments), DBA (Production Focus - build & troubleshoot servers, HA/DR), DBA (General - splits time evenly between writing & tuning queries AND building & troubleshooting servers), Developer: Business Intelligence (SSRS, PowerBI, etc), Developer: T-SQL, Engineer'\n 'Analyst, DBA (Development Focus - tunes queries, indexes, does deployments), Developer: App code (C#, JS, etc)'\n 'Architect, DBA (Development Focus - tunes queries, indexes, does deployments), DBA (Production Focus - build & troubleshoot servers, HA/DR), Developer: T-SQL'\n 'Analyst, Architect, DBA (Development Focus - tunes queries, indexes, does deployments), DBA (Production Focus - build & troubleshoot servers, HA/DR), DBA (General - splits time evenly between writing & tuning queries AND building & troubleshooting servers), Developer: App code (C#, JS, etc), Developer: T-SQL'\n 'DBA (Development Focus - tunes queries, indexes, does deployments), Developer: Business Intelligence (SSRS, PowerBI, etc), Developer: T-SQL, Manager'\n 'Analyst, Architect, DBA (General - splits time evenly between writing & tuning queries AND building & troubleshooting servers), Developer: App code (C#, JS, etc), Developer: Business Intelligence (SSRS, PowerBI, etc), Developer: T-SQL, Engineer, Manager'\n 'DBA (Production Focus - build & troubleshoot servers, HA/DR), DBA (General - splits time evenly between writing & tuning queries AND building & troubleshooting servers), Developer: App code (C#, JS, etc)'\n 'Analyst, Architect, Data Scientist, DBA (Development Focus - tunes queries, indexes, does deployments), Developer: App code (C#, JS, etc), Developer: Business Intelligence (SSRS, PowerBI, etc), Developer: T-SQL'\n 'Analyst, DBA (Development Focus - tunes queries, indexes, does deployments), Engineer, Manager'\n 'Developer: App code (C#, JS, etc), Developer: Business Intelligence (SSRS, PowerBI, etc), Engineer'\n 'DBA (Development Focus - tunes queries, indexes, does deployments), DBA (Production Focus - build & troubleshoot servers, HA/DR), DBA (General - splits time evenly between writing & tuning queries AND building & troubleshooting servers), Developer: T-SQL, Manager'\n 'Analyst, Architect, DBA (Development Focus - tunes queries, indexes, does deployments), DBA (General - splits time evenly between writing & tuning queries AND building & troubleshooting servers), Developer: App code (C#, JS, etc), Manager'\n 'Analyst, Architect, Data Scientist, Developer: App code (C#, JS, etc), Developer: Business Intelligence (SSRS, PowerBI, etc), Developer: T-SQL, Manager'\n 'Architect, DBA (General - splits time evenly between writing & tuning queries AND building & troubleshooting servers), Developer: T-SQL, Engineer, Manager'\n 'Architect, Data Scientist, Developer: App code (C#, JS, etc), Developer: T-SQL'\n 'Architect, Data Scientist, DBA (General - splits time evenly between writing & tuning queries AND building & troubleshooting servers), Developer: T-SQL'\n 'DBA (Development Focus - tunes queries, indexes, does deployments), DBA (General - splits time evenly between writing & tuning queries AND building & troubleshooting servers), Engineer'\n 'Architect, Data Scientist, Developer: Business Intelligence (SSRS, PowerBI, etc), Developer: T-SQL'\n 'Architect, Developer: App code (C#, JS, etc), Engineer'\n 'Analyst, Architect, Developer: Business Intelligence (SSRS, PowerBI, etc), Manager'\n 'Analyst, Data Scientist, DBA (Development Focus - tunes queries, indexes, does deployments), DBA (Production Focus - build & troubleshoot servers, HA/DR), DBA (General - splits time evenly between writing & tuning queries AND building & troubleshooting servers), Developer: Business Intelligence (SSRS, PowerBI, etc), Developer: T-SQL'\n 'Analyst, DBA (Development Focus - tunes queries, indexes, does deployments), DBA (General - splits time evenly between writing & tuning queries AND building & troubleshooting servers), Developer: App code (C#, JS, etc), Developer: Business Intelligence (SSRS, PowerBI, etc), Developer: T-SQL'\n 'Analyst, DBA (Production Focus - build & troubleshoot servers, HA/DR), Developer: App code (C#, JS, etc), Developer: T-SQL'\n 'Data Scientist, DBA (General - splits time evenly between writing & tuning queries AND building & troubleshooting servers), Developer: T-SQL'\n 'DBA (Development Focus - tunes queries, indexes, does deployments), DBA (Production Focus - build & troubleshoot servers, HA/DR), Developer: T-SQL, Manager'\n 'Architect, DBA (Development Focus - tunes queries, indexes, does deployments), DBA (Production Focus - build & troubleshoot servers, HA/DR), DBA (General - splits time evenly between writing & tuning queries AND building & troubleshooting servers), Developer: App code (C#, JS, etc), Developer: T-SQL, Manager'\n 'DBA (General - splits time evenly between writing & tuning queries AND building & troubleshooting servers), Developer: Business Intelligence (SSRS, PowerBI, etc), Developer: T-SQL, Engineer'\n 'Analyst, Architect, Developer: App code (C#, JS, etc), Developer: Business Intelligence (SSRS, PowerBI, etc)'\n 'Analyst, Architect, DBA (General - splits time evenly between writing & tuning queries AND building & troubleshooting servers), Developer: T-SQL, Manager'\n 'Analyst, DBA (Development Focus - tunes queries, indexes, does deployments), DBA (General - splits time evenly between writing & tuning queries AND building & troubleshooting servers)'\n 'Architect, Developer: Business Intelligence (SSRS, PowerBI, etc), Manager'\n 'Developer: App code (C#, JS, etc), Developer: Business Intelligence (SSRS, PowerBI, etc), Developer: T-SQL, Manager'\n 'Architect, Data Scientist, DBA (Development Focus - tunes queries, indexes, does deployments), Developer: App code (C#, JS, etc), Developer: Business Intelligence (SSRS, PowerBI, etc), Developer: T-SQL'\n 'Analyst, Architect, DBA (Development Focus - tunes queries, indexes, does deployments), DBA (Production Focus - build & troubleshoot servers, HA/DR), Developer: App code (C#, JS, etc), Developer: T-SQL, Engineer'\n 'Analyst, Architect, Data Scientist, DBA (General - splits time evenly between writing & tuning queries AND building & troubleshooting servers)'\n 'DBA (Development Focus - tunes queries, indexes, does deployments), Manager'\n 'Analyst, Developer: Business Intelligence (SSRS, PowerBI, etc), Developer: T-SQL, Engineer'\n 'Architect, DBA (Development Focus - tunes queries, indexes, does deployments), DBA (Production Focus - build & troubleshoot servers, HA/DR), DBA (General - splits time evenly between writing & tuning queries AND building & troubleshooting servers), Developer: App code (C#, JS, etc), Developer: T-SQL'\n 'Analyst, Developer: T-SQL, Manager'\n 'Analyst, Data Scientist, Developer: App code (C#, JS, etc)'\n 'Architect, DBA (Development Focus - tunes queries, indexes, does deployments), Developer: Business Intelligence (SSRS, PowerBI, etc), Manager'\n 'Data Scientist, DBA (Production Focus - build & troubleshoot servers, HA/DR), Developer: App code (C#, JS, etc), Developer: Business Intelligence (SSRS, PowerBI, etc), Engineer, Manager'\n 'Data Scientist, DBA (Production Focus - build & troubleshoot servers, HA/DR)'\n 'Analyst, DBA (General - splits time evenly between writing & tuning queries AND building & troubleshooting servers), Developer: Business Intelligence (SSRS, PowerBI, etc), Engineer'\n 'Data Scientist, Developer: Business Intelligence (SSRS, PowerBI, etc), Developer: T-SQL, Manager'\n 'DBA (Development Focus - tunes queries, indexes, does deployments), DBA (General - splits time evenly between writing & tuning queries AND building & troubleshooting servers), Developer: App code (C#, JS, etc)'\n 'Analyst, DBA (Development Focus - tunes queries, indexes, does deployments), Developer: App code (C#, JS, etc), Engineer'\n 'Architect, Data Scientist, DBA (Development Focus - tunes queries, indexes, does deployments), DBA (Production Focus - build & troubleshoot servers, HA/DR), DBA (General - splits time evenly between writing & tuning queries AND building & troubleshooting servers), Developer: Business Intelligence (SSRS, PowerBI, etc), Developer: T-SQL'\n 'Architect, Developer: App code (C#, JS, etc), Developer: Business Intelligence (SSRS, PowerBI, etc)'\n 'Analyst, Architect, Developer: App code (C#, JS, etc), Developer: T-SQL, Manager'\n 'Analyst, Architect, Developer: App code (C#, JS, etc), Engineer, Manager'\n 'Analyst, DBA (Development Focus - tunes queries, indexes, does deployments), Developer: App code (C#, JS, etc), Developer: Business Intelligence (SSRS, PowerBI, etc), Engineer'\n 'Data Scientist, Developer: Business Intelligence (SSRS, PowerBI, etc), Manager'\n 'Architect, DBA (Development Focus - tunes queries, indexes, does deployments), DBA (Production Focus - build & troubleshoot servers, HA/DR), Developer: Business Intelligence (SSRS, PowerBI, etc), Developer: T-SQL, Engineer'\n 'Architect, Data Scientist, DBA (Development Focus - tunes queries, indexes, does deployments), Developer: Business Intelligence (SSRS, PowerBI, etc)'\n 'Architect, Data Scientist, DBA (Development Focus - tunes queries, indexes, does deployments), DBA (General - splits time evenly between writing & tuning queries AND building & troubleshooting servers), Developer: Business Intelligence (SSRS, PowerBI, etc), Developer: T-SQL'\n 'Analyst, Data Scientist, DBA (Development Focus - tunes queries, indexes, does deployments), DBA (Production Focus - build & troubleshoot servers, HA/DR), Developer: T-SQL, Manager'\n 'Architect, Data Scientist, Developer: App code (C#, JS, etc), Developer: T-SQL, Manager'\n 'DBA (Production Focus - build & troubleshoot servers, HA/DR), Developer: Business Intelligence (SSRS, PowerBI, etc), Manager'\n 'Data Scientist, DBA (Development Focus - tunes queries, indexes, does deployments), Developer: App code (C#, JS, etc), Developer: T-SQL'\n 'Data Scientist, DBA (General - splits time evenly between writing & tuning queries AND building & troubleshooting servers)'\n 'DBA (Production Focus - build & troubleshoot servers, HA/DR), Developer: Business Intelligence (SSRS, PowerBI, etc), Developer: T-SQL, Manager'\n 'Analyst, DBA (Production Focus - build & troubleshoot servers, HA/DR), DBA (General - splits time evenly between writing & tuning queries AND building & troubleshooting servers)'\n 'Data Scientist, DBA (Development Focus - tunes queries, indexes, does deployments), Developer: App code (C#, JS, etc)'\n 'Analyst, Data Scientist, Manager'\n 'Analyst, DBA (Development Focus - tunes queries, indexes, does deployments), DBA (Production Focus - build & troubleshoot servers, HA/DR), Developer: Business Intelligence (SSRS, PowerBI, etc)'\n 'Architect, Data Scientist, DBA (General - splits time evenly between writing & tuning queries AND building & troubleshooting servers), Developer: App code (C#, JS, etc), Developer: Business Intelligence (SSRS, PowerBI, etc), Developer: T-SQL, Engineer'\n 'Architect, DBA (General - splits time evenly between writing & tuning queries AND building & troubleshooting servers), Manager']\nNot Asked                                                                                                                                                                                                                        3050\nDBA (Development Focus - tunes queries, indexes, does deployments)                                                                                                                                                                163\nDeveloper: T-SQL                                                                                                                                                                                                                  136\nDBA (General - splits time evenly between writing & tuning queries AND building & troubleshooting servers)                                                                                                                         86\nDBA (Production Focus - build & troubleshoot servers, HA/DR)                                                                                                                                                                       81\n                                                                                                                                                                                                                                 ... \nAnalyst, Architect, DBA (Development Focus - tunes queries, indexes, does deployments), DBA (Production Focus - build & troubleshoot servers, HA/DR), Developer: Business Intelligence (SSRS, PowerBI, etc), Developer: T-SQL       1\nAnalyst, DBA (Development Focus - tunes queries, indexes, does deployments), Developer: App code (C#, JS, etc), Engineer                                                                                                            1\nArchitect, DBA (Development Focus - tunes queries, indexes, does deployments), DBA (Production Focus - build & troubleshoot servers, HA/DR), Engineer                                                                               1\nAnalyst, Architect, DBA (Development Focus - tunes queries, indexes, does deployments), DBA (Production Focus - build & troubleshoot servers, HA/DR), Developer: App code (C#, JS, etc), Developer: T-SQL, Engineer                 1\nAnalyst, Data Scientist, DBA (Development Focus - tunes queries, indexes, does deployments), Developer: App code (C#, JS, etc), Developer: T-SQL, Manager                                                                           1\nName: OtherJobDuties, Length: 462, dtype: int64\n"
     ]
    }
   ],
   "source": [
    "\n",
    "print(df1.OtherJobDuties.unique())\n",
    "print(df1.OtherJobDuties.value_counts())\n",
    "\n"
   ]
  },
  {
   "source": [
    "\n",
    "\n",
    "Comme il y a trop de valeurs uniques différentes pour OtherJobDuties, je ne peux remplacer les valeurs manquantes par une valeur standard\n"
   ],
   "cell_type": "markdown",
   "metadata": {}
  },
  {
   "source": [
    "### Conclusion sur les valeurs manquantes\n",
    "\n",
    "\n",
    "Je choisis donc de conserver l'ensemble des données dans ma base mais je note un point de vigilance quand j'aurai à utiliser les variables codePostal et OtherJobDuties\n"
   ],
   "cell_type": "markdown",
   "metadata": {}
  },
  {
   "source": [
    "### 2ème table"
   ],
   "cell_type": "markdown",
   "metadata": {}
  },
  {
   "cell_type": "code",
   "execution_count": 12,
   "metadata": {},
   "outputs": [
    {
     "output_type": "stream",
     "name": "stdout",
     "text": [
      "Job Title            0\nSalary Estimate      0\nJob Description      0\nCompany Name         1\nLocation             0\nHeadquarters         0\nSize                 0\nFounded              0\nType of ownership    0\nIndustry             0\nSector               0\nRevenue              0\ndtype: int64\n(2253, 12)\n"
     ]
    }
   ],
   "source": [
    "print(dfk.isnull().sum())\n",
    "print(dfk.shape)"
   ]
  },
  {
   "source": [
    "Il n'y a qu'une seule valeur manquante dans 'Company Name' qui n'est pas un élément central, je décide donc de ne pas supprimer la ligne correspondante."
   ],
   "cell_type": "markdown",
   "metadata": {}
  },
  {
   "source": [
    "## 3. Traitement des dates\n"
   ],
   "cell_type": "markdown",
   "metadata": {}
  },
  {
   "cell_type": "code",
   "execution_count": 13,
   "metadata": {},
   "outputs": [
    {
     "output_type": "stream",
     "name": "stdout",
     "text": [
      "SalaryUSD                               float64\nCountry                                  object\nPostalCode                               object\nEmploymentStatus                         object\nJobTitle                                 object\nManageStaff                              object\nYearsWithThisTypeOfJob                    int64\nHowManyCompanies                         object\nOtherPeopleOnYourTeam                    object\nCompanyEmployeesOverall                  object\nPopulationOfLargestCityWithin20Miles     object\nEmploymentSector                         object\nLookingForAnotherJob                     object\nCareerPlansThisYear                      object\nGender                                   object\nOtherJobDuties                           object\ndtype: object\n"
     ]
    }
   ],
   "source": [
    "print(df1.dtypes)"
   ]
  },
  {
   "cell_type": "code",
   "execution_count": 14,
   "metadata": {},
   "outputs": [
    {
     "output_type": "stream",
     "name": "stdout",
     "text": [
      "Job Title            object\nSalary Estimate      object\nJob Description      object\nCompany Name         object\nLocation             object\nHeadquarters         object\nSize                 object\nFounded               int64\nType of ownership    object\nIndustry             object\nSector               object\nRevenue              object\ndtype: object\n"
     ]
    }
   ],
   "source": [
    "print(dfk.dtypes)"
   ]
  },
  {
   "source": [
    "\n",
    "\n",
    "Aucune de mes colonnes ne correspond à une date, je n'ai donc pas à faire de traitement\n"
   ],
   "cell_type": "markdown",
   "metadata": {}
  },
  {
   "source": [
    "## 4. Traitement des doublons"
   ],
   "cell_type": "markdown",
   "metadata": {}
  },
  {
   "source": [
    "### excel_table"
   ],
   "cell_type": "markdown",
   "metadata": {}
  },
  {
   "cell_type": "code",
   "execution_count": 15,
   "metadata": {},
   "outputs": [
    {
     "output_type": "stream",
     "name": "stdout",
     "text": [
      "False    5620\nTrue       60\ndtype: int64\n"
     ]
    }
   ],
   "source": [
    "print(df1.duplicated().value_counts())"
   ]
  },
  {
   "source": [
    "\n",
    "\n",
    "60 lignes sont dupliquées.\n"
   ],
   "cell_type": "markdown",
   "metadata": {}
  },
  {
   "cell_type": "code",
   "execution_count": 16,
   "metadata": {},
   "outputs": [
    {
     "output_type": "execute_result",
     "data": {
      "text/plain": [
       "      SalaryUSD        Country PostalCode  \\\n",
       "0      115000.0  United States         03   \n",
       "1      100000.0  United States       None   \n",
       "3       70000.0  United States      94133   \n",
       "4      110000.0  United States      95354   \n",
       "5       79500.0  United States      78727   \n",
       "...         ...            ...        ...   \n",
       "8609    66000.0  United States  Not Asked   \n",
       "8611    96000.0  United States  Not Asked   \n",
       "8612    85000.0  United States  Not Asked   \n",
       "8614   137500.0  United States  Not Asked   \n",
       "8626   200000.0  United States  Not Asked   \n",
       "\n",
       "                                       EmploymentStatus  \\\n",
       "0                                    Full time employee   \n",
       "1                                    Full time employee   \n",
       "3                                    Full time employee   \n",
       "4                                    Full time employee   \n",
       "5                                    Full time employee   \n",
       "...                                                 ...   \n",
       "8609                                 Full time employee   \n",
       "8611                                 Full time employee   \n",
       "8612                                 Full time employee   \n",
       "8614  Full time employee of a consulting/contracting...   \n",
       "8626                                 Full time employee   \n",
       "\n",
       "                                               JobTitle ManageStaff  \\\n",
       "0     DBA (Production Focus - build & troubleshoot s...          No   \n",
       "1                     Developer: App code (C#, JS, etc)          No   \n",
       "3                                               Analyst          No   \n",
       "4     DBA (General - splits time evenly between writ...          No   \n",
       "5                                               Analyst          No   \n",
       "...                                                 ...         ...   \n",
       "8609                  Developer: App code (C#, JS, etc)          No   \n",
       "8611                                                DBA          No   \n",
       "8612                                                DBA          No   \n",
       "8614                                                DBA          No   \n",
       "8626                                                DBA          No   \n",
       "\n",
       "      YearsWithThisTypeOfJob  \\\n",
       "0                          5   \n",
       "1                          6   \n",
       "3                          3   \n",
       "4                         25   \n",
       "5                          2   \n",
       "...                      ...   \n",
       "8609                      10   \n",
       "8611                       5   \n",
       "8612                       2   \n",
       "8614                       6   \n",
       "8626                       5   \n",
       "\n",
       "                                       HowManyCompanies OtherPeopleOnYourTeam  \\\n",
       "0     1 (this is the only company where I've had thi...                     2   \n",
       "1     1 (this is the only company where I've had thi...           More than 5   \n",
       "3     1 (this is the only company where I've had thi...                     2   \n",
       "4                                                     3                  None   \n",
       "5     1 (this is the only company where I've had thi...                  None   \n",
       "...                                                 ...                   ...   \n",
       "8609                                          Not Asked                  None   \n",
       "8611                                          Not Asked                  None   \n",
       "8612                                          Not Asked                  None   \n",
       "8614                                          Not Asked                     4   \n",
       "8626                                          Not Asked                     2   \n",
       "\n",
       "     CompanyEmployeesOverall PopulationOfLargestCityWithin20Miles  \\\n",
       "0                  Not Asked                 20K-99K (large town)   \n",
       "1                  Not Asked                     1M+ (metropolis)   \n",
       "3                  Not Asked                     1M+ (metropolis)   \n",
       "4                  Not Asked                     100K-299K (city)   \n",
       "5                  Not Asked                     1M+ (metropolis)   \n",
       "...                      ...                                  ...   \n",
       "8609               Not Asked                            Not Asked   \n",
       "8611               Not Asked                            Not Asked   \n",
       "8612               Not Asked                            Not Asked   \n",
       "8614               Not Asked                            Not Asked   \n",
       "8626               Not Asked                            Not Asked   \n",
       "\n",
       "      EmploymentSector                    LookingForAnotherJob  \\\n",
       "0     Private business                               Not Asked   \n",
       "1     Private business                               Not Asked   \n",
       "3     Private business                               Not Asked   \n",
       "4           Non-profit                               Not Asked   \n",
       "5     Private business                               Not Asked   \n",
       "...                ...                                     ...   \n",
       "8609  Private business  Yes, but only passively (just curious)   \n",
       "8611  Private business  Yes, but only passively (just curious)   \n",
       "8612  Private business  Yes, but only passively (just curious)   \n",
       "8614  Private business                                      No   \n",
       "8626  Private business  Yes, but only passively (just curious)   \n",
       "\n",
       "                         CareerPlansThisYear     Gender OtherJobDuties  \n",
       "0     Stay with the same employer, same role       Male      Not Asked  \n",
       "1                          Prefer not to say       Male      Not Asked  \n",
       "3            Change both employers and roles       Male      Not Asked  \n",
       "4     Stay with the same employer, same role       Male      Not Asked  \n",
       "5     Stay with the same employer, same role       Male      Not Asked  \n",
       "...                                      ...        ...            ...  \n",
       "8609                               Not Asked  Not Asked      Not Asked  \n",
       "8611                               Not Asked  Not Asked      Not Asked  \n",
       "8612                               Not Asked  Not Asked      Not Asked  \n",
       "8614                               Not Asked  Not Asked      Not Asked  \n",
       "8626                               Not Asked  Not Asked      Not Asked  \n",
       "\n",
       "[5620 rows x 16 columns]"
      ],
      "text/html": "<div>\n<style scoped>\n    .dataframe tbody tr th:only-of-type {\n        vertical-align: middle;\n    }\n\n    .dataframe tbody tr th {\n        vertical-align: top;\n    }\n\n    .dataframe thead th {\n        text-align: right;\n    }\n</style>\n<table border=\"1\" class=\"dataframe\">\n  <thead>\n    <tr style=\"text-align: right;\">\n      <th></th>\n      <th>SalaryUSD</th>\n      <th>Country</th>\n      <th>PostalCode</th>\n      <th>EmploymentStatus</th>\n      <th>JobTitle</th>\n      <th>ManageStaff</th>\n      <th>YearsWithThisTypeOfJob</th>\n      <th>HowManyCompanies</th>\n      <th>OtherPeopleOnYourTeam</th>\n      <th>CompanyEmployeesOverall</th>\n      <th>PopulationOfLargestCityWithin20Miles</th>\n      <th>EmploymentSector</th>\n      <th>LookingForAnotherJob</th>\n      <th>CareerPlansThisYear</th>\n      <th>Gender</th>\n      <th>OtherJobDuties</th>\n    </tr>\n  </thead>\n  <tbody>\n    <tr>\n      <th>0</th>\n      <td>115000.0</td>\n      <td>United States</td>\n      <td>03</td>\n      <td>Full time employee</td>\n      <td>DBA (Production Focus - build &amp; troubleshoot s...</td>\n      <td>No</td>\n      <td>5</td>\n      <td>1 (this is the only company where I've had thi...</td>\n      <td>2</td>\n      <td>Not Asked</td>\n      <td>20K-99K (large town)</td>\n      <td>Private business</td>\n      <td>Not Asked</td>\n      <td>Stay with the same employer, same role</td>\n      <td>Male</td>\n      <td>Not Asked</td>\n    </tr>\n    <tr>\n      <th>1</th>\n      <td>100000.0</td>\n      <td>United States</td>\n      <td>None</td>\n      <td>Full time employee</td>\n      <td>Developer: App code (C#, JS, etc)</td>\n      <td>No</td>\n      <td>6</td>\n      <td>1 (this is the only company where I've had thi...</td>\n      <td>More than 5</td>\n      <td>Not Asked</td>\n      <td>1M+ (metropolis)</td>\n      <td>Private business</td>\n      <td>Not Asked</td>\n      <td>Prefer not to say</td>\n      <td>Male</td>\n      <td>Not Asked</td>\n    </tr>\n    <tr>\n      <th>3</th>\n      <td>70000.0</td>\n      <td>United States</td>\n      <td>94133</td>\n      <td>Full time employee</td>\n      <td>Analyst</td>\n      <td>No</td>\n      <td>3</td>\n      <td>1 (this is the only company where I've had thi...</td>\n      <td>2</td>\n      <td>Not Asked</td>\n      <td>1M+ (metropolis)</td>\n      <td>Private business</td>\n      <td>Not Asked</td>\n      <td>Change both employers and roles</td>\n      <td>Male</td>\n      <td>Not Asked</td>\n    </tr>\n    <tr>\n      <th>4</th>\n      <td>110000.0</td>\n      <td>United States</td>\n      <td>95354</td>\n      <td>Full time employee</td>\n      <td>DBA (General - splits time evenly between writ...</td>\n      <td>No</td>\n      <td>25</td>\n      <td>3</td>\n      <td>None</td>\n      <td>Not Asked</td>\n      <td>100K-299K (city)</td>\n      <td>Non-profit</td>\n      <td>Not Asked</td>\n      <td>Stay with the same employer, same role</td>\n      <td>Male</td>\n      <td>Not Asked</td>\n    </tr>\n    <tr>\n      <th>5</th>\n      <td>79500.0</td>\n      <td>United States</td>\n      <td>78727</td>\n      <td>Full time employee</td>\n      <td>Analyst</td>\n      <td>No</td>\n      <td>2</td>\n      <td>1 (this is the only company where I've had thi...</td>\n      <td>None</td>\n      <td>Not Asked</td>\n      <td>1M+ (metropolis)</td>\n      <td>Private business</td>\n      <td>Not Asked</td>\n      <td>Stay with the same employer, same role</td>\n      <td>Male</td>\n      <td>Not Asked</td>\n    </tr>\n    <tr>\n      <th>...</th>\n      <td>...</td>\n      <td>...</td>\n      <td>...</td>\n      <td>...</td>\n      <td>...</td>\n      <td>...</td>\n      <td>...</td>\n      <td>...</td>\n      <td>...</td>\n      <td>...</td>\n      <td>...</td>\n      <td>...</td>\n      <td>...</td>\n      <td>...</td>\n      <td>...</td>\n      <td>...</td>\n    </tr>\n    <tr>\n      <th>8609</th>\n      <td>66000.0</td>\n      <td>United States</td>\n      <td>Not Asked</td>\n      <td>Full time employee</td>\n      <td>Developer: App code (C#, JS, etc)</td>\n      <td>No</td>\n      <td>10</td>\n      <td>Not Asked</td>\n      <td>None</td>\n      <td>Not Asked</td>\n      <td>Not Asked</td>\n      <td>Private business</td>\n      <td>Yes, but only passively (just curious)</td>\n      <td>Not Asked</td>\n      <td>Not Asked</td>\n      <td>Not Asked</td>\n    </tr>\n    <tr>\n      <th>8611</th>\n      <td>96000.0</td>\n      <td>United States</td>\n      <td>Not Asked</td>\n      <td>Full time employee</td>\n      <td>DBA</td>\n      <td>No</td>\n      <td>5</td>\n      <td>Not Asked</td>\n      <td>None</td>\n      <td>Not Asked</td>\n      <td>Not Asked</td>\n      <td>Private business</td>\n      <td>Yes, but only passively (just curious)</td>\n      <td>Not Asked</td>\n      <td>Not Asked</td>\n      <td>Not Asked</td>\n    </tr>\n    <tr>\n      <th>8612</th>\n      <td>85000.0</td>\n      <td>United States</td>\n      <td>Not Asked</td>\n      <td>Full time employee</td>\n      <td>DBA</td>\n      <td>No</td>\n      <td>2</td>\n      <td>Not Asked</td>\n      <td>None</td>\n      <td>Not Asked</td>\n      <td>Not Asked</td>\n      <td>Private business</td>\n      <td>Yes, but only passively (just curious)</td>\n      <td>Not Asked</td>\n      <td>Not Asked</td>\n      <td>Not Asked</td>\n    </tr>\n    <tr>\n      <th>8614</th>\n      <td>137500.0</td>\n      <td>United States</td>\n      <td>Not Asked</td>\n      <td>Full time employee of a consulting/contracting...</td>\n      <td>DBA</td>\n      <td>No</td>\n      <td>6</td>\n      <td>Not Asked</td>\n      <td>4</td>\n      <td>Not Asked</td>\n      <td>Not Asked</td>\n      <td>Private business</td>\n      <td>No</td>\n      <td>Not Asked</td>\n      <td>Not Asked</td>\n      <td>Not Asked</td>\n    </tr>\n    <tr>\n      <th>8626</th>\n      <td>200000.0</td>\n      <td>United States</td>\n      <td>Not Asked</td>\n      <td>Full time employee</td>\n      <td>DBA</td>\n      <td>No</td>\n      <td>5</td>\n      <td>Not Asked</td>\n      <td>2</td>\n      <td>Not Asked</td>\n      <td>Not Asked</td>\n      <td>Private business</td>\n      <td>Yes, but only passively (just curious)</td>\n      <td>Not Asked</td>\n      <td>Not Asked</td>\n      <td>Not Asked</td>\n    </tr>\n  </tbody>\n</table>\n<p>5620 rows × 16 columns</p>\n</div>"
     },
     "metadata": {},
     "execution_count": 16
    }
   ],
   "source": [
    "df1.drop_duplicates()"
   ]
  },
  {
   "source": [
    "On a supprimé les 60 lignes en double"
   ],
   "cell_type": "markdown",
   "metadata": {}
  },
  {
   "source": [
    "### sql_table"
   ],
   "cell_type": "markdown",
   "metadata": {}
  },
  {
   "cell_type": "code",
   "execution_count": 17,
   "metadata": {},
   "outputs": [
    {
     "output_type": "stream",
     "name": "stdout",
     "text": [
      "False    2253\ndtype: int64\n"
     ]
    }
   ],
   "source": [
    "print(dfk.duplicated().value_counts())"
   ]
  },
  {
   "source": [
    "\n",
    "\n",
    "On est bon.\n"
   ],
   "cell_type": "markdown",
   "metadata": {}
  },
  {
   "source": [
    "## 5. Regroupement des valeurs similaires\n"
   ],
   "cell_type": "markdown",
   "metadata": {}
  },
  {
   "cell_type": "code",
   "execution_count": 18,
   "metadata": {},
   "outputs": [
    {
     "output_type": "execute_result",
     "data": {
      "text/plain": [
       "DBA (General - splits time evenly between writing & tuning queries AND building & troubleshooting servers)    1009\n",
       "DBA                                                                                                            976\n",
       "DBA (Production Focus - build & troubleshoot servers, HA/DR)                                                   583\n",
       "Developer: T-SQL                                                                                               533\n",
       "Architect                                                                                                      473\n",
       "Manager                                                                                                        385\n",
       "Developer: Business Intelligence (SSRS, PowerBI, etc)                                                          362\n",
       "Analyst                                                                                                        352\n",
       "Developer: App code (C#, JS, etc)                                                                              350\n",
       "Engineer                                                                                                       276\n",
       "DBA (Development Focus - tunes queries, indexes, does deployments)                                             246\n",
       "Other                                                                                                           89\n",
       "Data Scientist                                                                                                  37\n",
       "Systems Administrator                                                                                            2\n",
       "Database Specialist                                                                                              1\n",
       "Sr Consultant                                                                                                    1\n",
       "DevOps, Sr Software Engineer DBA                                                                                 1\n",
       "Principal database engineer                                                                                      1\n",
       "Analytics consultant                                                                                             1\n",
       "Consultant                                                                                                       1\n",
       "Technician                                                                                                       1\n",
       "Name: JobTitle, dtype: int64"
      ]
     },
     "metadata": {},
     "execution_count": 18
    }
   ],
   "source": [
    "df1[\"JobTitle\"].value_counts()"
   ]
  },
  {
   "source": [
    "On remarque que 4 catégories de 'JobTitle' commencent par DBA et 3 catégories commencent par Developer\n",
    "Pour une meilleure lisibilité du diagramme circulaire, je les regroupe et renomme dans 'Database Administrator' et 'Developer'"
   ],
   "cell_type": "markdown",
   "metadata": {}
  },
  {
   "cell_type": "code",
   "execution_count": 19,
   "metadata": {},
   "outputs": [
    {
     "output_type": "execute_result",
     "data": {
      "text/plain": [
       "0        True\n",
       "1       False\n",
       "3       False\n",
       "4        True\n",
       "5       False\n",
       "        ...  \n",
       "8609    False\n",
       "8611     True\n",
       "8612     True\n",
       "8614     True\n",
       "8626     True\n",
       "Name: JobTitle, Length: 5680, dtype: bool"
      ]
     },
     "metadata": {},
     "execution_count": 19
    }
   ],
   "source": [
    "df1[\"JobTitle\"].str.startswith(\"DBA\")"
   ]
  },
  {
   "cell_type": "code",
   "execution_count": 20,
   "metadata": {},
   "outputs": [],
   "source": [
    "df1.loc[df1[\"JobTitle\"].str.startswith(\"DBA\"), \"JobTitle\"] = \"Database Administrator\"\n",
    "df1.loc[df1[\"JobTitle\"].str.startswith(\"Developer\"), \"JobTitle\"] = \"Developer\""
   ]
  },
  {
   "source": [
    "Il y a des catégories dans 'JobTitle' qui comportent moins de cinq entrées, je les regroupe dans une catégorie 'Other'"
   ],
   "cell_type": "markdown",
   "metadata": {}
  },
  {
   "cell_type": "code",
   "execution_count": 21,
   "metadata": {},
   "outputs": [],
   "source": [
    "s = df1[\"JobTitle\"].value_counts()\n",
    "df1.loc[df1[\"JobTitle\"].isin(s[(s < 5)].index), \"JobTitle\"] = \"Other\""
   ]
  },
  {
   "source": [
    "Je visualise la nouvelle distribution avec tous les éléments renommés et regroupés."
   ],
   "cell_type": "markdown",
   "metadata": {}
  },
  {
   "cell_type": "code",
   "execution_count": 22,
   "metadata": {},
   "outputs": [
    {
     "output_type": "execute_result",
     "data": {
      "text/plain": [
       "Database Administrator    2814\n",
       "Developer                 1245\n",
       "Architect                  473\n",
       "Manager                    385\n",
       "Analyst                    352\n",
       "Engineer                   276\n",
       "Other                       98\n",
       "Data Scientist              37\n",
       "Name: JobTitle, dtype: int64"
      ]
     },
     "metadata": {},
     "execution_count": 22
    }
   ],
   "source": [
    "df1[\"JobTitle\"].value_counts()"
   ]
  },
  {
   "cell_type": "code",
   "execution_count": 23,
   "metadata": {},
   "outputs": [
    {
     "output_type": "execute_result",
     "data": {
      "text/plain": [
       "   SalaryUSD        Country PostalCode    EmploymentStatus  \\\n",
       "0   115000.0  United States         03  Full time employee   \n",
       "1   100000.0  United States       None  Full time employee   \n",
       "3    70000.0  United States      94133  Full time employee   \n",
       "4   110000.0  United States      95354  Full time employee   \n",
       "5    79500.0  United States      78727  Full time employee   \n",
       "\n",
       "                 JobTitle ManageStaff  YearsWithThisTypeOfJob  \\\n",
       "0  Database Administrator          No                       5   \n",
       "1               Developer          No                       6   \n",
       "3                 Analyst          No                       3   \n",
       "4  Database Administrator          No                      25   \n",
       "5                 Analyst          No                       2   \n",
       "\n",
       "                                    HowManyCompanies OtherPeopleOnYourTeam  \\\n",
       "0  1 (this is the only company where I've had thi...                     2   \n",
       "1  1 (this is the only company where I've had thi...           More than 5   \n",
       "3  1 (this is the only company where I've had thi...                     2   \n",
       "4                                                  3                  None   \n",
       "5  1 (this is the only company where I've had thi...                  None   \n",
       "\n",
       "  CompanyEmployeesOverall PopulationOfLargestCityWithin20Miles  \\\n",
       "0               Not Asked                 20K-99K (large town)   \n",
       "1               Not Asked                     1M+ (metropolis)   \n",
       "3               Not Asked                     1M+ (metropolis)   \n",
       "4               Not Asked                     100K-299K (city)   \n",
       "5               Not Asked                     1M+ (metropolis)   \n",
       "\n",
       "   EmploymentSector LookingForAnotherJob  \\\n",
       "0  Private business            Not Asked   \n",
       "1  Private business            Not Asked   \n",
       "3  Private business            Not Asked   \n",
       "4        Non-profit            Not Asked   \n",
       "5  Private business            Not Asked   \n",
       "\n",
       "                      CareerPlansThisYear Gender OtherJobDuties  \n",
       "0  Stay with the same employer, same role   Male      Not Asked  \n",
       "1                       Prefer not to say   Male      Not Asked  \n",
       "3         Change both employers and roles   Male      Not Asked  \n",
       "4  Stay with the same employer, same role   Male      Not Asked  \n",
       "5  Stay with the same employer, same role   Male      Not Asked  "
      ],
      "text/html": "<div>\n<style scoped>\n    .dataframe tbody tr th:only-of-type {\n        vertical-align: middle;\n    }\n\n    .dataframe tbody tr th {\n        vertical-align: top;\n    }\n\n    .dataframe thead th {\n        text-align: right;\n    }\n</style>\n<table border=\"1\" class=\"dataframe\">\n  <thead>\n    <tr style=\"text-align: right;\">\n      <th></th>\n      <th>SalaryUSD</th>\n      <th>Country</th>\n      <th>PostalCode</th>\n      <th>EmploymentStatus</th>\n      <th>JobTitle</th>\n      <th>ManageStaff</th>\n      <th>YearsWithThisTypeOfJob</th>\n      <th>HowManyCompanies</th>\n      <th>OtherPeopleOnYourTeam</th>\n      <th>CompanyEmployeesOverall</th>\n      <th>PopulationOfLargestCityWithin20Miles</th>\n      <th>EmploymentSector</th>\n      <th>LookingForAnotherJob</th>\n      <th>CareerPlansThisYear</th>\n      <th>Gender</th>\n      <th>OtherJobDuties</th>\n    </tr>\n  </thead>\n  <tbody>\n    <tr>\n      <th>0</th>\n      <td>115000.0</td>\n      <td>United States</td>\n      <td>03</td>\n      <td>Full time employee</td>\n      <td>Database Administrator</td>\n      <td>No</td>\n      <td>5</td>\n      <td>1 (this is the only company where I've had thi...</td>\n      <td>2</td>\n      <td>Not Asked</td>\n      <td>20K-99K (large town)</td>\n      <td>Private business</td>\n      <td>Not Asked</td>\n      <td>Stay with the same employer, same role</td>\n      <td>Male</td>\n      <td>Not Asked</td>\n    </tr>\n    <tr>\n      <th>1</th>\n      <td>100000.0</td>\n      <td>United States</td>\n      <td>None</td>\n      <td>Full time employee</td>\n      <td>Developer</td>\n      <td>No</td>\n      <td>6</td>\n      <td>1 (this is the only company where I've had thi...</td>\n      <td>More than 5</td>\n      <td>Not Asked</td>\n      <td>1M+ (metropolis)</td>\n      <td>Private business</td>\n      <td>Not Asked</td>\n      <td>Prefer not to say</td>\n      <td>Male</td>\n      <td>Not Asked</td>\n    </tr>\n    <tr>\n      <th>3</th>\n      <td>70000.0</td>\n      <td>United States</td>\n      <td>94133</td>\n      <td>Full time employee</td>\n      <td>Analyst</td>\n      <td>No</td>\n      <td>3</td>\n      <td>1 (this is the only company where I've had thi...</td>\n      <td>2</td>\n      <td>Not Asked</td>\n      <td>1M+ (metropolis)</td>\n      <td>Private business</td>\n      <td>Not Asked</td>\n      <td>Change both employers and roles</td>\n      <td>Male</td>\n      <td>Not Asked</td>\n    </tr>\n    <tr>\n      <th>4</th>\n      <td>110000.0</td>\n      <td>United States</td>\n      <td>95354</td>\n      <td>Full time employee</td>\n      <td>Database Administrator</td>\n      <td>No</td>\n      <td>25</td>\n      <td>3</td>\n      <td>None</td>\n      <td>Not Asked</td>\n      <td>100K-299K (city)</td>\n      <td>Non-profit</td>\n      <td>Not Asked</td>\n      <td>Stay with the same employer, same role</td>\n      <td>Male</td>\n      <td>Not Asked</td>\n    </tr>\n    <tr>\n      <th>5</th>\n      <td>79500.0</td>\n      <td>United States</td>\n      <td>78727</td>\n      <td>Full time employee</td>\n      <td>Analyst</td>\n      <td>No</td>\n      <td>2</td>\n      <td>1 (this is the only company where I've had thi...</td>\n      <td>None</td>\n      <td>Not Asked</td>\n      <td>1M+ (metropolis)</td>\n      <td>Private business</td>\n      <td>Not Asked</td>\n      <td>Stay with the same employer, same role</td>\n      <td>Male</td>\n      <td>Not Asked</td>\n    </tr>\n  </tbody>\n</table>\n</div>"
     },
     "metadata": {},
     "execution_count": 23
    }
   ],
   "source": [
    "df1.head()"
   ]
  },
  {
   "source": [
    "Dans la colonne 'HowManyCompanies', je renomme les catégories en utilisant seulement un chiffre, sauf pour la réponse '6 or more'"
   ],
   "cell_type": "markdown",
   "metadata": {}
  },
  {
   "cell_type": "code",
   "execution_count": 24,
   "metadata": {},
   "outputs": [
    {
     "output_type": "execute_result",
     "data": {
      "text/plain": [
       "Not Asked                                                             3907\n",
       "1 (this is the only company where I've had this kind of position)      621\n",
       "2 (I worked at another similar position elsewhere before this one)     527\n",
       "3                                                                      315\n",
       "4                                                                      122\n",
       "6 or more                                                              102\n",
       "5                                                                       86\n",
       "Name: HowManyCompanies, dtype: int64"
      ]
     },
     "metadata": {},
     "execution_count": 24
    }
   ],
   "source": [
    "df1[\"HowManyCompanies\"].value_counts()"
   ]
  },
  {
   "cell_type": "code",
   "execution_count": 25,
   "metadata": {},
   "outputs": [],
   "source": [
    "df1.loc[df1[\"HowManyCompanies\"] == \"1 (this is the only company where I've had this kind of position)\", \"HowManyCompanies\"] = \"1\"\n",
    "df1.loc[df1[\"HowManyCompanies\"] == \"2 (I worked at another similar position elsewhere before this one)\", \"HowManyCompanies\"] = \"2\"\n"
   ]
  },
  {
   "source": [
    "Je les classe dans l'ordre croissant"
   ],
   "cell_type": "markdown",
   "metadata": {}
  },
  {
   "cell_type": "code",
   "execution_count": 26,
   "metadata": {},
   "outputs": [
    {
     "output_type": "execute_result",
     "data": {
      "text/plain": [
       "1             621\n",
       "2             527\n",
       "3             315\n",
       "4             122\n",
       "5              86\n",
       "6 or more     102\n",
       "Not Asked    3907\n",
       "Name: HowManyCompanies, dtype: int64"
      ]
     },
     "metadata": {},
     "execution_count": 26
    }
   ],
   "source": [
    "df1[\"HowManyCompanies\"].value_counts().sort_index()"
   ]
  },
  {
   "source": [
    "La même chose pour la colonne 'OtherPeopleOnYourTeam'"
   ],
   "cell_type": "markdown",
   "metadata": {}
  },
  {
   "cell_type": "code",
   "execution_count": 27,
   "metadata": {},
   "outputs": [
    {
     "output_type": "execute_result",
     "data": {
      "text/plain": [
       "1              1158\n",
       "2               645\n",
       "3               495\n",
       "4               323\n",
       "5               208\n",
       "More than 5     554\n",
       "None           2297\n",
       "Name: OtherPeopleOnYourTeam, dtype: int64"
      ]
     },
     "metadata": {},
     "execution_count": 27
    }
   ],
   "source": [
    "df1[\"OtherPeopleOnYourTeam\"].value_counts().sort_index()"
   ]
  },
  {
   "source": [
    "## 6. Sauvegarde dans MySQL"
   ],
   "cell_type": "markdown",
   "metadata": {}
  },
  {
   "cell_type": "code",
   "execution_count": 55,
   "metadata": {},
   "outputs": [],
   "source": [
    "save_to_mysql(db_connect=connect,df_to_save=df1,df_name='excel_table_v1.0')\n",
    "\n",
    "save_to_mysql(db_connect=connect,df_to_save=dfk,df_name='csv_table_v1.0')\n",
    "\n",
    "print(\"Data saved to mysql\")"
   ]
  },
  {
   "cell_type": "code",
   "execution_count": null,
   "metadata": {},
   "outputs": [],
   "source": []
  }
 ]
}